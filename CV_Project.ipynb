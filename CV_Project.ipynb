{
  "cells": [
    {
      "cell_type": "markdown",
      "metadata": {},
      "source": [
        "README:\n",
        "To run this file, install all the required dependencies in the local system. Now, download any video you want to test this on named \"test.mp4\" in the same directory this code resides in. Now, create a folder named \"frames\" and another folder called \"test_output\" and run the code."
      ]
    },
    {
      "cell_type": "code",
      "execution_count": 1,
      "metadata": {
        "id": "JJpVIPyM4e9f"
      },
      "outputs": [],
      "source": [
        "import cv2\n",
        "import numpy as np\n",
        "import matplotlib.pyplot as plt\n",
        "import os"
      ]
    },
    {
      "cell_type": "markdown",
      "metadata": {
        "id": "QKqB-2N6760F"
      },
      "source": [
        "We basically now want to read the video as a sequence of frames. Here we are just taking a video and saving it as a sequence of frames in some output directory."
      ]
    },
    {
      "cell_type": "code",
      "execution_count": 2,
      "metadata": {},
      "outputs": [],
      "source": [
        "def video_to_frames(input_loc, output_loc):\n",
        "    \"\"\"Function to extract frames from input video file\n",
        "    and save them as separate frames in an output directory.\n",
        "    Args:\n",
        "        input_loc: Input video file.\n",
        "        output_loc: Output directory to save the frames.\n",
        "    Returns:\n",
        "        None\n",
        "    \"\"\"\n",
        "    try:\n",
        "        os.mkdir(output_loc)\n",
        "    except OSError:\n",
        "        pass\n",
        "    cap = cv2.VideoCapture(input_loc)\n",
        "    # Find the number of frames\n",
        "    video_length = int(cap.get(cv2.CAP_PROP_FRAME_COUNT)) - 1\n",
        "    print (\"Number of frames: \", video_length)\n",
        "    count = 0\n",
        "    print (\"Converting video..\\n\")\n",
        "    # Start converting the video\n",
        "    while cap.isOpened():\n",
        "        # Extract the frame\n",
        "        ret, frame = cap.read()\n",
        "        if not ret:\n",
        "            continue\n",
        "        # Write the results back to output location.\n",
        "        cv2.imwrite(output_loc + \"/%#05d.jpg\" % (count+1), frame)\n",
        "        count = count + 1\n",
        "        # If there are no more frames left\n",
        "        if (count > (video_length-1)):\n",
        "            \n",
        "            # Release the feed\n",
        "            cap.release()\n",
        "            # Print stats\n",
        "            print (\"Done extracting frames.\\n%d frames extracted\" % count)\n",
        "            break"
      ]
    },
    {
      "cell_type": "code",
      "execution_count": 3,
      "metadata": {},
      "outputs": [
        {
          "name": "stdout",
          "output_type": "stream",
          "text": [
            "Number of frames:  300\n",
            "Converting video..\n",
            "\n",
            "Done extracting frames.\n",
            "300 frames extracted\n"
          ]
        }
      ],
      "source": [
        "input_loc = 'test.mp4'\n",
        "output_loc = 'frames'\n",
        "video_to_frames(input_loc,output_loc)"
      ]
    },
    {
      "cell_type": "markdown",
      "metadata": {
        "id": "hZix-pWRCcAp"
      },
      "source": [
        "Now, let us read the frames and see the ouput."
      ]
    },
    {
      "cell_type": "code",
      "execution_count": 4,
      "metadata": {
        "id": "j65QVRPYCe19"
      },
      "outputs": [
        {
          "name": "stdout",
          "output_type": "stream",
          "text": [
            "frames/00001.jpg\n",
            "frames/00002.jpg\n",
            "frames/00003.jpg\n",
            "frames/00004.jpg\n",
            "frames/00005.jpg\n",
            "frames/00006.jpg\n",
            "frames/00007.jpg\n",
            "frames/00008.jpg\n",
            "frames/00009.jpg\n",
            "frames/00010.jpg\n",
            "frames/00011.jpg\n",
            "frames/00012.jpg\n",
            "frames/00013.jpg\n",
            "frames/00014.jpg\n",
            "frames/00015.jpg\n",
            "frames/00016.jpg\n",
            "frames/00017.jpg\n",
            "frames/00018.jpg\n",
            "frames/00019.jpg\n",
            "frames/00020.jpg\n",
            "frames/00021.jpg\n",
            "frames/00022.jpg\n",
            "frames/00023.jpg\n",
            "frames/00024.jpg\n",
            "frames/00025.jpg\n",
            "frames/00026.jpg\n",
            "frames/00027.jpg\n",
            "frames/00028.jpg\n",
            "frames/00029.jpg\n",
            "frames/00030.jpg\n",
            "frames/00031.jpg\n",
            "frames/00032.jpg\n",
            "frames/00033.jpg\n",
            "frames/00034.jpg\n",
            "frames/00035.jpg\n",
            "frames/00036.jpg\n",
            "frames/00037.jpg\n",
            "frames/00038.jpg\n",
            "frames/00039.jpg\n",
            "frames/00040.jpg\n",
            "frames/00041.jpg\n",
            "frames/00042.jpg\n",
            "frames/00043.jpg\n",
            "frames/00044.jpg\n",
            "frames/00045.jpg\n",
            "frames/00046.jpg\n",
            "frames/00047.jpg\n",
            "frames/00048.jpg\n",
            "frames/00049.jpg\n",
            "frames/00050.jpg\n",
            "frames/00051.jpg\n",
            "frames/00052.jpg\n",
            "frames/00053.jpg\n",
            "frames/00054.jpg\n",
            "frames/00055.jpg\n",
            "frames/00056.jpg\n",
            "frames/00057.jpg\n",
            "frames/00058.jpg\n",
            "frames/00059.jpg\n",
            "frames/00060.jpg\n",
            "frames/00061.jpg\n",
            "frames/00062.jpg\n",
            "frames/00063.jpg\n",
            "frames/00064.jpg\n",
            "frames/00065.jpg\n",
            "frames/00066.jpg\n",
            "frames/00067.jpg\n",
            "frames/00068.jpg\n",
            "frames/00069.jpg\n",
            "frames/00070.jpg\n",
            "frames/00071.jpg\n",
            "frames/00072.jpg\n",
            "frames/00073.jpg\n",
            "frames/00074.jpg\n",
            "frames/00075.jpg\n",
            "frames/00076.jpg\n",
            "frames/00077.jpg\n",
            "frames/00078.jpg\n",
            "frames/00079.jpg\n",
            "frames/00080.jpg\n",
            "frames/00081.jpg\n",
            "frames/00082.jpg\n",
            "frames/00083.jpg\n",
            "frames/00084.jpg\n",
            "frames/00085.jpg\n",
            "frames/00086.jpg\n",
            "frames/00087.jpg\n",
            "frames/00088.jpg\n",
            "frames/00089.jpg\n",
            "frames/00090.jpg\n",
            "frames/00091.jpg\n",
            "frames/00092.jpg\n",
            "frames/00093.jpg\n",
            "frames/00094.jpg\n",
            "frames/00095.jpg\n",
            "frames/00096.jpg\n",
            "frames/00097.jpg\n",
            "frames/00098.jpg\n",
            "frames/00099.jpg\n",
            "frames/00100.jpg\n",
            "frames/00101.jpg\n",
            "frames/00102.jpg\n",
            "frames/00103.jpg\n",
            "frames/00104.jpg\n",
            "frames/00105.jpg\n",
            "frames/00106.jpg\n",
            "frames/00107.jpg\n",
            "frames/00108.jpg\n",
            "frames/00109.jpg\n",
            "frames/00110.jpg\n",
            "frames/00111.jpg\n",
            "frames/00112.jpg\n",
            "frames/00113.jpg\n",
            "frames/00114.jpg\n",
            "frames/00115.jpg\n",
            "frames/00116.jpg\n",
            "frames/00117.jpg\n",
            "frames/00118.jpg\n",
            "frames/00119.jpg\n",
            "frames/00120.jpg\n",
            "frames/00121.jpg\n",
            "frames/00122.jpg\n",
            "frames/00123.jpg\n",
            "frames/00124.jpg\n",
            "frames/00125.jpg\n",
            "frames/00126.jpg\n",
            "frames/00127.jpg\n",
            "frames/00128.jpg\n",
            "frames/00129.jpg\n",
            "frames/00130.jpg\n",
            "frames/00131.jpg\n",
            "frames/00132.jpg\n",
            "frames/00133.jpg\n",
            "frames/00134.jpg\n",
            "frames/00135.jpg\n",
            "frames/00136.jpg\n",
            "frames/00137.jpg\n",
            "frames/00138.jpg\n",
            "frames/00139.jpg\n",
            "frames/00140.jpg\n",
            "frames/00141.jpg\n",
            "frames/00142.jpg\n",
            "frames/00143.jpg\n",
            "frames/00144.jpg\n",
            "frames/00145.jpg\n",
            "frames/00146.jpg\n",
            "frames/00147.jpg\n",
            "frames/00148.jpg\n",
            "frames/00149.jpg\n",
            "frames/00150.jpg\n",
            "frames/00151.jpg\n",
            "frames/00152.jpg\n",
            "frames/00153.jpg\n",
            "frames/00154.jpg\n",
            "frames/00155.jpg\n",
            "frames/00156.jpg\n",
            "frames/00157.jpg\n",
            "frames/00158.jpg\n",
            "frames/00159.jpg\n",
            "frames/00160.jpg\n",
            "frames/00161.jpg\n",
            "frames/00162.jpg\n",
            "frames/00163.jpg\n",
            "frames/00164.jpg\n",
            "frames/00165.jpg\n",
            "frames/00166.jpg\n",
            "frames/00167.jpg\n",
            "frames/00168.jpg\n",
            "frames/00169.jpg\n",
            "frames/00170.jpg\n",
            "frames/00171.jpg\n",
            "frames/00172.jpg\n",
            "frames/00173.jpg\n",
            "frames/00174.jpg\n",
            "frames/00175.jpg\n",
            "frames/00176.jpg\n",
            "frames/00177.jpg\n",
            "frames/00178.jpg\n",
            "frames/00179.jpg\n",
            "frames/00180.jpg\n",
            "frames/00181.jpg\n",
            "frames/00182.jpg\n",
            "frames/00183.jpg\n",
            "frames/00184.jpg\n",
            "frames/00185.jpg\n",
            "frames/00186.jpg\n",
            "frames/00187.jpg\n",
            "frames/00188.jpg\n",
            "frames/00189.jpg\n",
            "frames/00190.jpg\n",
            "frames/00191.jpg\n",
            "frames/00192.jpg\n",
            "frames/00193.jpg\n",
            "frames/00194.jpg\n",
            "frames/00195.jpg\n",
            "frames/00196.jpg\n",
            "frames/00197.jpg\n",
            "frames/00198.jpg\n",
            "frames/00199.jpg\n",
            "frames/00200.jpg\n",
            "frames/00201.jpg\n",
            "frames/00202.jpg\n",
            "frames/00203.jpg\n",
            "frames/00204.jpg\n",
            "frames/00205.jpg\n",
            "frames/00206.jpg\n",
            "frames/00207.jpg\n",
            "frames/00208.jpg\n",
            "frames/00209.jpg\n",
            "frames/00210.jpg\n",
            "frames/00211.jpg\n",
            "frames/00212.jpg\n",
            "frames/00213.jpg\n",
            "frames/00214.jpg\n",
            "frames/00215.jpg\n",
            "frames/00216.jpg\n",
            "frames/00217.jpg\n",
            "frames/00218.jpg\n",
            "frames/00219.jpg\n",
            "frames/00220.jpg\n",
            "frames/00221.jpg\n",
            "frames/00222.jpg\n",
            "frames/00223.jpg\n",
            "frames/00224.jpg\n",
            "frames/00225.jpg\n",
            "frames/00226.jpg\n",
            "frames/00227.jpg\n",
            "frames/00228.jpg\n",
            "frames/00229.jpg\n",
            "frames/00230.jpg\n",
            "frames/00231.jpg\n",
            "frames/00232.jpg\n",
            "frames/00233.jpg\n",
            "frames/00234.jpg\n",
            "frames/00235.jpg\n",
            "frames/00236.jpg\n",
            "frames/00237.jpg\n",
            "frames/00238.jpg\n",
            "frames/00239.jpg\n",
            "frames/00240.jpg\n",
            "frames/00241.jpg\n",
            "frames/00242.jpg\n",
            "frames/00243.jpg\n",
            "frames/00244.jpg\n",
            "frames/00245.jpg\n",
            "frames/00246.jpg\n",
            "frames/00247.jpg\n",
            "frames/00248.jpg\n",
            "frames/00249.jpg\n",
            "frames/00250.jpg\n",
            "frames/00251.jpg\n",
            "frames/00252.jpg\n",
            "frames/00253.jpg\n",
            "frames/00254.jpg\n",
            "frames/00255.jpg\n",
            "frames/00256.jpg\n",
            "frames/00257.jpg\n",
            "frames/00258.jpg\n",
            "frames/00259.jpg\n",
            "frames/00260.jpg\n",
            "frames/00261.jpg\n",
            "frames/00262.jpg\n",
            "frames/00263.jpg\n",
            "frames/00264.jpg\n",
            "frames/00265.jpg\n",
            "frames/00266.jpg\n",
            "frames/00267.jpg\n",
            "frames/00268.jpg\n",
            "frames/00269.jpg\n",
            "frames/00270.jpg\n",
            "frames/00271.jpg\n",
            "frames/00272.jpg\n",
            "frames/00273.jpg\n",
            "frames/00274.jpg\n",
            "frames/00275.jpg\n",
            "frames/00276.jpg\n",
            "frames/00277.jpg\n",
            "frames/00278.jpg\n",
            "frames/00279.jpg\n",
            "frames/00280.jpg\n",
            "frames/00281.jpg\n",
            "frames/00282.jpg\n",
            "frames/00283.jpg\n",
            "frames/00284.jpg\n",
            "frames/00285.jpg\n",
            "frames/00286.jpg\n",
            "frames/00287.jpg\n",
            "frames/00288.jpg\n",
            "frames/00289.jpg\n",
            "frames/00290.jpg\n",
            "frames/00291.jpg\n",
            "frames/00292.jpg\n",
            "frames/00293.jpg\n",
            "frames/00294.jpg\n",
            "frames/00295.jpg\n",
            "frames/00296.jpg\n",
            "frames/00297.jpg\n",
            "frames/00298.jpg\n",
            "frames/00299.jpg\n",
            "frames/00300.jpg\n"
          ]
        }
      ],
      "source": [
        "imPath = r'frames/'\n",
        "#cv2.imread(frames/00001)\n",
        "#imPath = imPath + '\\'\n",
        "for imName in os.listdir(imPath):\n",
        "    image = os.path.join(imPath) + imName\n",
        "    print(image)\n",
        "    frame = cv2.imread(image) \n",
        "    frame = cv2.resize(frame,dsize=(600,400))\n",
        "    cv2.imshow('Display', frame)\n",
        "    k = cv2.waitKey(5) & 0xff\n",
        "    if k == 27:\n",
        "        break\n",
        "\n",
        "cv2.destroyAllWindows()\n"
      ]
    },
    {
      "cell_type": "markdown",
      "metadata": {
        "id": "s6LlJQDtDq-T"
      },
      "source": [
        "The first approach is to read the current image and remove the backgrnd from it. Also called frame differencing."
      ]
    },
    {
      "cell_type": "code",
      "execution_count": 5,
      "metadata": {
        "id": "i02-aGjHDEIP"
      },
      "outputs": [],
      "source": [
        "B = cv2.imread(r'frames/00001.jpg')\n",
        "I = cv2.imread(r'frames/00280.jpg')\n"
      ]
    },
    {
      "cell_type": "code",
      "execution_count": 6,
      "metadata": {
        "id": "IOm1ve7aEISL"
      },
      "outputs": [
        {
          "data": {
            "text/plain": [
              "(720, 1280, 3)"
            ]
          },
          "execution_count": 6,
          "metadata": {},
          "output_type": "execute_result"
        }
      ],
      "source": [
        "#change the data types so as to read negative values\n",
        "B = np.float32(B)\n",
        "I = np.float32(I)\n",
        "C = (I-B)**2\n",
        "C.shape"
      ]
    },
    {
      "cell_type": "code",
      "execution_count": 7,
      "metadata": {
        "id": "YcOOxWupEoVY"
      },
      "outputs": [
        {
          "data": {
            "text/plain": [
              "<matplotlib.image.AxesImage at 0x1f0cf69a5f0>"
            ]
          },
          "execution_count": 7,
          "metadata": {},
          "output_type": "execute_result"
        },
        {
          "data": {
            "image/png": "[encoded data removed]",
            "text/plain": [
              "<Figure size 432x288 with 1 Axes>"
            ]
          },
          "metadata": {
            "needs_background": "light"
          },
          "output_type": "display_data"
        }
      ],
      "source": [
        "#since c has all the RGB values, sum them to get single grayscale\n",
        "C2 = np.sum(C,axis = 2)\n",
        "#C2 here represents the foreground mask now.\n",
        "plt.imshow(C2,cmap='gray')"
      ]
    },
    {
      "cell_type": "code",
      "execution_count": 8,
      "metadata": {
        "id": "glh1jpHcFVKy"
      },
      "outputs": [
        {
          "data": {
            "text/plain": [
              "<matplotlib.image.AxesImage at 0x1f0d1b58370>"
            ]
          },
          "execution_count": 8,
          "metadata": {},
          "output_type": "execute_result"
        },
        {
          "data": {
            "image/png": "[encoded data removed]",
            "text/plain": [
              "<Figure size 432x288 with 1 Axes>"
            ]
          },
          "metadata": {
            "needs_background": "light"
          },
          "output_type": "display_data"
        }
      ],
      "source": [
        "#now let us keep the mean as refence and see the image\n",
        "plt.imshow(C2>C.mean()+2*C2.std(),cmap = 'gray')"
      ]
    },
    {
      "cell_type": "markdown",
      "metadata": {
        "id": "gkCUMLcHF-7s"
      },
      "source": [
        "But now we see, in background subtraction it fails when there is change in luminances which  might give us  more noise. SO we basically try to build a probability model for each pixel to predict if it is a backgrnd pixel or not. we thus would like to use gausssian mixture model."
      ]
    },
    {
      "cell_type": "markdown",
      "metadata": {
        "id": "ov3K-_atHR51"
      },
      "source": [
        "so for frame to frame, we see if it a backgrnd or foregrnd pixel and if it is a foregrdn pixel and if it stays the same for lot of upcoming frames, then it also becomes a part of the backgrnd."
      ]
    },
    {
      "cell_type": "code",
      "execution_count": 9,
      "metadata": {
        "id": "RpIUnGDpGpP1"
      },
      "outputs": [],
      "source": [
        "imPath = r'frames/'\n",
        "fgModel = cv2.createBackgroundSubtractorMOG2()\n",
        "\n",
        "for imName in os.listdir(imPath):\n",
        "  image = os.path.join(imPath) + imName\n",
        "  frame = cv2.imread(image)\n",
        "  frame = cv2.resize(frame,dsize=(600,400))\n",
        "  fgmask = fgModel.apply(frame)\n",
        "  F = np.zeros(frame.shape,np.uint8)\n",
        "  F[:,:,0],F[:,:,1],F[:,:,2] = fgmask, fgmask, fgmask\n",
        "  F2 = np.hstack((frame,F))\n",
        "  cv2.imshow('Mixture of gaussians',F2)\n",
        "  k = cv2.waitKey(5) & 0xff\n",
        "  if k == 27:\n",
        "    break\n",
        "\n",
        "#cap.release()\n",
        "cv2.destroyAllWindows()\n"
      ]
    },
    {
      "cell_type": "markdown",
      "metadata": {
        "id": "7-NDP58kJ25F"
      },
      "source": [
        "We would now want to de-noise the foreground mask using some morphological operators."
      ]
    },
    {
      "cell_type": "code",
      "execution_count": 10,
      "metadata": {
        "id": "4PZvIPaIKDdw"
      },
      "outputs": [],
      "source": [
        "imPath = r'frames/'\n",
        "fgModel = cv2.createBackgroundSubtractorMOG2()\n",
        "\n",
        "for imName in os.listdir(imPath):\n",
        "  image = os.path.join(imPath) + imName\n",
        "  frame = cv2.imread(image)\n",
        "  frame = cv2.resize(frame,dsize=(600,400))\n",
        "  fgmask = fgModel.apply(frame)\n",
        "\n",
        "  #We now want to de-noise the mask\n",
        "  K_r = cv2.getStructuringElement(cv2.MORPH_RECT,(3,3))\n",
        "  fgmask = cv2.morphologyEx(np.float32(fgmask),cv2.MORPH_OPEN,K_r)\n",
        "  F = np.zeros(frame.shape,np.uint8)\n",
        "  F[:,:,0],F[:,:,1],F[:,:,2] = fgmask, fgmask, fgmask\n",
        "  F2 = np.hstack((frame,F))\n",
        "  cv2.imshow('Morphological operators',F2)\n",
        "  k = cv2.waitKey(5) & 0xff\n",
        "  if k == 27:\n",
        "    break\n",
        "\n",
        "#cap.release()\n",
        "cv2.destroyAllWindows()\n"
      ]
    },
    {
      "cell_type": "markdown",
      "metadata": {
        "id": "XOitAUdlLWTb"
      },
      "source": [
        "Now, the next problem we tackle is, what if we have a changing backgrnd, i.e, say we have trees on the side of a road on a windy day as the backgrnd. Since the leaves keep moving, it is considered as active change and is shown which is not required, so now we want to tackle that."
      ]
    },
    {
      "cell_type": "markdown",
      "metadata": {
        "id": "EWNOfcGULq-U"
      },
      "source": [
        "One major obsevation is that, the objects of interest are very large connected components. rathe than small leaves flickering, areas of intrest are bigger connected components such as a car or a bus."
      ]
    },
    {
      "cell_type": "code",
      "execution_count": 11,
      "metadata": {
        "id": "fc6OWCwyNUAS"
      },
      "outputs": [],
      "source": [
        "def f_keepLargeComponents(I,th):\n",
        "  #making it a boolean array\n",
        "  R = np.zeros(I.shape)<0\n",
        "  #this unique func finds all the unique values in the flattened array.\n",
        "  unique_labels = np.unique(I.flatten())\n",
        "\n",
        "  #Now iterate the labels\n",
        "  for label in unique_labels:\n",
        "    if label == 0:\n",
        "      pass\n",
        "    else:\n",
        "      #compute all the pixels beloging to that label\n",
        "      I2 = I==label\n",
        "      if np.sum(I2)>th:\n",
        "        R = R | I2\n",
        "\n",
        "  return np.float32(255*R)\n",
        "\n"
      ]
    },
    {
      "cell_type": "code",
      "execution_count": 12,
      "metadata": {
        "id": "E9srXVuaMtMp"
      },
      "outputs": [],
      "source": [
        "imPath = r'frames/'\n",
        "fgModel = cv2.createBackgroundSubtractorMOG2()\n",
        "\n",
        "for imName in os.listdir(imPath):\n",
        "  image = os.path.join(imPath) + imName\n",
        "  frame = cv2.imread(image)\n",
        "  frame = cv2.resize(frame,dsize=(600,400))\n",
        "  fgmask = fgModel.apply(frame)\n",
        "\n",
        "  #We now want to de-noise the mask\n",
        "  K_r = cv2.getStructuringElement(cv2.MORPH_RECT,(3,3))\n",
        "  fgmask = cv2.morphologyEx(np.float32(fgmask),cv2.MORPH_OPEN,K_r)\n",
        "\n",
        "  #Start doing the connected components here.\n",
        "  num_labels,labels_im = cv2.connectedComponents(np.array(fgmask>0,np.uint8))\n",
        "  fgmask = f_keepLargeComponents(labels_im,1000)\n",
        "\n",
        "\n",
        "  F = np.zeros(frame.shape,np.uint8)\n",
        "  F[:,:,0],F[:,:,1],F[:,:,2] = fgmask, fgmask, fgmask\n",
        "  F2 = np.hstack((frame,F))\n",
        "  cv2.imshow('Connnected components',F2)\n",
        "  k = cv2.waitKey(1) & 0xff\n",
        "  if k == 27:\n",
        "    break\n",
        "\n",
        "#cap.release()\n",
        "cv2.destroyAllWindows()\n"
      ]
    },
    {
      "cell_type": "markdown",
      "metadata": {
        "id": "Pr_FPNC0POPM"
      },
      "source": [
        "Now, we would like to only save the changes which are big and save them on our local system. As if a change is only for 1 frame, it might just be noise, so we want to keep the changes which consecutively last for 4-5 frames."
      ]
    },
    {
      "cell_type": "code",
      "execution_count": 13,
      "metadata": {
        "id": "yARHdwIXYEhm"
      },
      "outputs": [],
      "source": [
        "import cvlib as cv\n",
        "from cvlib.object_detection import draw_bbox\n",
        "def f_saveSeq(C,counter,th,outPutPath):\n",
        "  if len(C) < th:\n",
        "    pass\n",
        "  else:\n",
        "    k = 1\n",
        "    for frame in C:\n",
        "      imName = str(counter) + '_' + str(k) + '.jpg'\n",
        "      finalPath = os.path.join(outPutPath,imName)\n",
        "      bbox,labels,conf = cv.detect_common_objects(frame)\n",
        "      frame = draw_bbox(frame,bbox,labels,conf)\n",
        "      cv2.imwrite(finalPath,frame)\n",
        "      k+=1 \n"
      ]
    },
    {
      "cell_type": "code",
      "execution_count": 14,
      "metadata": {
        "id": "tZUlYvakQLlH"
      },
      "outputs": [],
      "source": [
        "imPath = r'frames/'\n",
        "fgModel = cv2.createBackgroundSubtractorMOG2()\n",
        "leastNumOfFrames = 5\n",
        "idx = []\n",
        "C = []\n",
        "counter = 0\n",
        "outPutPath = r'test_output/'\n",
        "\n",
        "for imName in os.listdir(imPath):\n",
        "  counter+=1\n",
        "  image = os.path.join(imPath) + imName\n",
        "  frame = cv2.imread(image)\n",
        "  frame = cv2.resize(frame,dsize=(600,400))\n",
        "  fgmask = fgModel.apply(frame)\n",
        "\n",
        "  #We now want to de-noise the mask\n",
        "  K_r = cv2.getStructuringElement(cv2.MORPH_RECT,(3,3))\n",
        "  fgmask = cv2.morphologyEx(np.float32(fgmask),cv2.MORPH_OPEN,K_r)\n",
        "\n",
        "  #Start doing the connected components here.\n",
        "  num_labels,labels_im = cv2.connectedComponents(np.array(fgmask>0,np.uint8))\n",
        "  fgmask = f_keepLargeComponents(labels_im,1000)\n",
        "\n",
        "  #now, if the foregrnd mask does not have all backgrnd but has some foregrnd values, then\n",
        "  if np.sum(fgmask)>0:\n",
        "    idx.append(counter)\n",
        "    C.append(frame)\n",
        "  #if the frames are consecutive,\n",
        "  if len(idx) >= 2 and idx [-1] > idx[-2] + 1:\n",
        "    f_saveSeq(C, counter, leastNumOfFrames, outPutPath)\n",
        "    idx = []\n",
        "    C = []\n",
        "\n",
        "\n",
        "\n",
        "  F = np.zeros(frame.shape,np.uint8)\n",
        "  F[:,:,0],F[:,:,1],F[:,:,2] = fgmask, fgmask, fgmask\n",
        "  F2 = np.hstack((frame,F))\n",
        "  cv2.imshow('Before object detection',F2)\n",
        "  k = cv2.waitKey(1) & 0xff\n",
        "  if k == 27:\n",
        "    break\n",
        "\n",
        "f_saveSeq(C, counter, leastNumOfFrames, outPutPath)\n",
        "#cap.release()\n",
        "cv2.destroyAllWindows()\n"
      ]
    },
    {
      "cell_type": "markdown",
      "metadata": {
        "id": "lKU5jHM_asua"
      },
      "source": [
        "Now let us view the frames as a video and save the interesting part by detecting the objects. As we can see, the number of output frames will always be lesser than the input frames as we discard all the un-intresting frames."
      ]
    },
    {
      "cell_type": "code",
      "execution_count": 21,
      "metadata": {
        "id": "ROz065Nea-ZT"
      },
      "outputs": [],
      "source": [
        "def f_displaySeq(outPutPath):\n",
        "  for imName in os.listdir(outPutPath):\n",
        "    image = os.path.join(outPutPath) + imName\n",
        "\n",
        "    frame = cv2.imread(image)\n",
        "    frame = cv2.resize(frame,dsize=(600,400))\n",
        "    cv2.imshow('Display', frame)\n",
        "    k = cv2.waitKey(5) & 0xff\n",
        "    if k == 27:\n",
        "      break\n",
        "\n",
        "  cv2.destroyAllWindows()"
      ]
    },
    {
      "cell_type": "code",
      "execution_count": 22,
      "metadata": {
        "id": "TUXs-fuGa4x8"
      },
      "outputs": [],
      "source": [
        "pth = r'test_output/'\n",
        "f_displaySeq(pth)"
      ]
    }
  ],
  "metadata": {
    "accelerator": "GPU",
    "colab": {
      "name": "CV_Project.ipynb",
      "provenance": []
    },
    "kernelspec": {
      "display_name": "Python 3",
      "name": "python3"
    },
    "language_info": {
      "codemirror_mode": {
        "name": "ipython",
        "version": 3
      },
      "file_extension": ".py",
      "mimetype": "text/x-python",
      "name": "python",
      "nbconvert_exporter": "python",
      "pygments_lexer": "ipython3",
      "version": "3.10.1"
    }
  },
  "nbformat": 4,
  "nbformat_minor": 0
}
