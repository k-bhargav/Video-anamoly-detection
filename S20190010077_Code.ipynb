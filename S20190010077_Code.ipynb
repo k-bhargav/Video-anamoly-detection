{
  "nbformat": 4,
  "nbformat_minor": 0,
  "metadata": {
    "colab": {
      "name": "CVAssignment3.ipynb",
      "provenance": [],
      "collapsed_sections": []
    },
    "kernelspec": {
      "name": "python3",
      "display_name": "Python 3"
    },
    "language_info": {
      "name": "python"
    }
  },
  "cells": [
    {
      "cell_type": "markdown",
      "source": [
        "### Data Preprocessing"
      ],
      "metadata": {
        "id": "QZVtPtMa-OLf"
      }
    },
    {
      "cell_type": "code",
      "execution_count": 1,
      "metadata": {
        "id": "SFhwtCn8AL4K"
      },
      "outputs": [],
      "source": [
        "import numpy as np\n",
        "import pandas as pd\n",
        "import matplotlib.pyplot as plt\n",
        "from sklearn.metrics import accuracy_score, precision_score, recall_score\n",
        "from sklearn.preprocessing import label_binarize"
      ]
    },
    {
      "cell_type": "code",
      "source": [
        "from tensorflow.keras.datasets import cifar10\n",
        "(x_train, y_train), (x_test, y_test) = cifar10.load_data()"
      ],
      "metadata": {
        "id": "9SDfEES-ATye"
      },
      "execution_count": 2,
      "outputs": []
    },
    {
      "cell_type": "code",
      "source": [
        "x, y = np.concatenate([x_train, x_test], axis=0), np.concatenate([y_train, y_test], axis=0)\n",
        "print(x.shape, y.shape)"
      ],
      "metadata": {
        "colab": {
          "base_uri": "https://localhost:8080/"
        },
        "id": "G8w4AAXXBOm2",
        "outputId": "b902ff90-bf83-4d5a-ab80-ad0bc06d2162"
      },
      "execution_count": 3,
      "outputs": [
        {
          "output_type": "stream",
          "name": "stdout",
          "text": [
            "(60000, 32, 32, 3) (60000, 1)\n"
          ]
        }
      ]
    },
    {
      "cell_type": "code",
      "source": [
        "from sklearn.model_selection import train_test_split\n",
        "x_train, x_rem, y_train, y_rem = train_test_split(x, y, train_size=0.8)\n",
        "print(x_train.shape, y_train.shape, x_rem.shape, y_rem.shape)"
      ],
      "metadata": {
        "colab": {
          "base_uri": "https://localhost:8080/"
        },
        "id": "4LRr-2APAbwg",
        "outputId": "d5b25e1b-07b8-4cdd-e6cb-cc50a8bc81d1"
      },
      "execution_count": 4,
      "outputs": [
        {
          "output_type": "stream",
          "name": "stdout",
          "text": [
            "(48000, 32, 32, 3) (48000, 1) (12000, 32, 32, 3) (12000, 1)\n"
          ]
        }
      ]
    },
    {
      "cell_type": "code",
      "source": [
        "x_val, x_test, y_val, y_test = train_test_split(x_rem, y_rem, test_size=0.5)\n",
        "print(x_val.shape, y_val.shape, x_test.shape, y_test.shape)"
      ],
      "metadata": {
        "colab": {
          "base_uri": "https://localhost:8080/"
        },
        "id": "q7Pj-KsSCGYF",
        "outputId": "ec2ae776-dbb3-4528-86a9-a7ee2e9d7a95"
      },
      "execution_count": 5,
      "outputs": [
        {
          "output_type": "stream",
          "name": "stdout",
          "text": [
            "(6000, 32, 32, 3) (6000, 1) (6000, 32, 32, 3) (6000, 1)\n"
          ]
        }
      ]
    },
    {
      "cell_type": "code",
      "source": [
        "y_train, y_val, y_test = y_train.ravel(), y_val.ravel(), y_test.ravel()"
      ],
      "metadata": {
        "id": "Z6B1CvFvPd7q"
      },
      "execution_count": 6,
      "outputs": []
    },
    {
      "cell_type": "code",
      "source": [
        "idx = {\n",
        "    \"train\": [],\n",
        "    \"test\": [],\n",
        "    \"val\": []\n",
        "}\n",
        "for i in range(10):\n",
        "  idx[\"train\"].extend(list(np.where(y_train == i)[0][:1000]))\n",
        "  idx[\"test\"].extend(list(np.where(y_test == i)[0][:125]))\n",
        "  idx[\"val\"].extend(list(np.where(y_val == i)[0][:125]))\n",
        "print(len(idx[\"train\"]), len(idx[\"test\"]), len(idx[\"val\"]))"
      ],
      "metadata": {
        "colab": {
          "base_uri": "https://localhost:8080/"
        },
        "id": "Im5JZCkLDX3g",
        "outputId": "93dd0733-0c7a-4820-f160-f925d47e22c1"
      },
      "execution_count": 7,
      "outputs": [
        {
          "output_type": "stream",
          "name": "stdout",
          "text": [
            "10000 1250 1250\n"
          ]
        }
      ]
    },
    {
      "cell_type": "code",
      "source": [
        "x_train, x_val, x_test = x_train[idx[\"train\"]], x_val[idx[\"val\"]], x_test[idx[\"test\"]]\n",
        "y_train, y_val, y_test = y_train[idx[\"train\"]], y_val[idx[\"val\"]], y_test[idx[\"test\"]]\n",
        "print(x_train.shape, y_train.shape)\n",
        "print(x_test.shape, y_test.shape)\n",
        "print(x_val.shape, y_val.shape)"
      ],
      "metadata": {
        "colab": {
          "base_uri": "https://localhost:8080/"
        },
        "id": "6pgi-N58FcCB",
        "outputId": "096db110-d4f8-4ec0-e939-d8d4082a0a3a"
      },
      "execution_count": 8,
      "outputs": [
        {
          "output_type": "stream",
          "name": "stdout",
          "text": [
            "(10000, 32, 32, 3) (10000,)\n",
            "(1250, 32, 32, 3) (1250,)\n",
            "(1250, 32, 32, 3) (1250,)\n"
          ]
        }
      ]
    },
    {
      "cell_type": "code",
      "source": [
        "train, val, test = np.reshape(x_train, (x_train.shape[0], -1)), np.reshape(x_val, (x_val.shape[0], -1)), np.reshape(x_test, (x_test.shape[0], -1))\n",
        "print(train.shape, val.shape, test.shape)"
      ],
      "metadata": {
        "colab": {
          "base_uri": "https://localhost:8080/"
        },
        "id": "CQ2yrRHxNURP",
        "outputId": "2c053760-c179-4028-aaf3-ddb0a95a817d"
      },
      "execution_count": 9,
      "outputs": [
        {
          "output_type": "stream",
          "name": "stdout",
          "text": [
            "(10000, 3072) (1250, 3072) (1250, 3072)\n"
          ]
        }
      ]
    },
    {
      "cell_type": "code",
      "source": [
        "from sklearn.metrics import accuracy_score,classification_report\n",
        "def Report(x_train,x_test,y_train,y_test,classifier):\n",
        "  training_error, testing_error, precision, recall, accuracy = 0, 0, 0, 0, 0\n",
        "  y_pred_train = classifier.predict(x_train)\n",
        "  y_pred_test = classifier.predict(x_test)\n",
        "  training_error = 1 - accuracy_score(y_train,y_pred_train)\n",
        "  testing_error = 1 - accuracy_score(y_test,y_pred_test)\n",
        "  accuracy = 1 - testing_error\n",
        "  print(\"Training error:{}\\nTesting error:{}\\nAccuracy:{}\\n\".format(training_error,testing_error,accuracy))\n",
        "  target_names = [\"Airplane\",\"Automobile\",\"Bird\",\"Cat\",\"Deer\",\"Dog\",\"Frog\",\"Horse\",\"Ship\",\"Truck\"]\n",
        "  print(classification_report(y_test,y_pred_test,target_names=target_names))"
      ],
      "metadata": {
        "id": "sBzrEU_pHWZL"
      },
      "execution_count": 10,
      "outputs": []
    },
    {
      "cell_type": "code",
      "source": [
        "from sklearn.preprocessing import label_binarize\n",
        "from sklearn.metrics import auc,roc_curve\n",
        "from sklearn.multiclass import OneVsRestClassifier\n",
        "\n",
        "def PlotROC(y_test,y_score,x):\n",
        "  fpr = dict()\n",
        "  tpr = dict()\n",
        "  roc_auc = dict()\n",
        "  for i in range(10):\n",
        "      fpr[i], tpr[i], _ = roc_curve(y_test[:, i], y_score[:, i])\n",
        "      roc_auc[i] = auc(fpr[i], tpr[i])\n",
        "\n",
        "  # Compute micro-average ROC curve and ROC area\n",
        "  fpr[\"micro\"], tpr[\"micro\"], _ = roc_curve(y_test.ravel(), y_score.ravel())\n",
        "  roc_auc[\"micro\"] = auc(fpr[\"micro\"], tpr[\"micro\"])\n",
        "  plt.figure()\n",
        "  lw = 2\n",
        "  plt.plot(fpr[2], tpr[2], color='red',\n",
        "          lw=lw, label='ROC curve (area = %0.2f)' % roc_auc[2])\n",
        "  plt.plot([0, 1], [0, 1], color='navy', lw=lw, linestyle='--')\n",
        "  plt.xlim([0.0, 1.0])\n",
        "  plt.ylim([0.0, 1.05])\n",
        "  plt.xlabel('False Positive Rate')\n",
        "  plt.ylabel('True Positive Rate')\n",
        "  plt.title('Receiver operating characteristic '+x)\n",
        "  plt.legend(loc=\"lower right\")\n",
        "  plt.show()\n",
        "\n",
        "\n",
        "def prepareandplotROC(x_train,x_test,y_train,y_test,classifier,x):\n",
        "  y_train = label_binarize(y_train,classes = [*range(10)])\n",
        "  y_test = label_binarize(y_test,classes = [*range(10)])\n",
        "  clf = OneVsRestClassifier(classifier).fit(x_train,y_train)\n",
        "  if x not in [\"Decision Trees\",\"Random forest\", \"K Nearest Neighbors\"]:\n",
        "    y_score = clf.decision_function(x_test)\n",
        "  else:\n",
        "    y_score = clf.predict_proba(x_test)\n",
        "  PlotROC(y_test,y_score,x)"
      ],
      "metadata": {
        "id": "s2bps_HmJv4I"
      },
      "execution_count": 11,
      "outputs": []
    },
    {
      "cell_type": "markdown",
      "source": [
        "### K Nearest Neighbors"
      ],
      "metadata": {
        "id": "XjfD5wPz-S5f"
      }
    },
    {
      "cell_type": "code",
      "source": [
        "from sklearn.neighbors import KNeighborsClassifier\n",
        "\n",
        "knn_classifier = KNeighborsClassifier(n_neighbors=11)\n",
        "knn_classifier.fit(train, y_train)"
      ],
      "metadata": {
        "colab": {
          "base_uri": "https://localhost:8080/"
        },
        "id": "po2HrZDvCSiL",
        "outputId": "366e60bd-b94f-44bf-e5f1-ead9b16f2cc6"
      },
      "execution_count": 12,
      "outputs": [
        {
          "output_type": "execute_result",
          "data": {
            "text/plain": [
              "KNeighborsClassifier(n_neighbors=11)"
            ]
          },
          "metadata": {},
          "execution_count": 12
        }
      ]
    },
    {
      "cell_type": "code",
      "source": [
        "y_train_pred_knn = knn_classifier.predict(train)\n",
        "y_val_pred_knn = knn_classifier.predict(val)\n",
        "y_test_pred_knn = knn_classifier.predict(test)"
      ],
      "metadata": {
        "id": "g87CGs8hPTbu"
      },
      "execution_count": 13,
      "outputs": []
    },
    {
      "cell_type": "code",
      "source": [
        "print(\"For KNN classifier\")\n",
        "print(f\"Train set error: {1-accuracy_score(y_train_pred_knn, y_train)}\\nValidation set error: {1-accuracy_score(y_val_pred_knn, y_val)}\\nTest set error: {1-accuracy_score(y_test_pred_knn, y_test)}\")"
      ],
      "metadata": {
        "colab": {
          "base_uri": "https://localhost:8080/"
        },
        "id": "Dbal3UMaR4FZ",
        "outputId": "6da27b06-57ce-482f-a1ad-7063783ddf3e"
      },
      "execution_count": 14,
      "outputs": [
        {
          "output_type": "stream",
          "name": "stdout",
          "text": [
            "For KNN classifier\n",
            "Train set error: 0.623\n",
            "Validation set error: 0.7008\n",
            "Test set error: 0.7024\n"
          ]
        }
      ]
    },
    {
      "cell_type": "code",
      "source": [
        "print(\"KNN Classifier metrics:\")\n",
        "print(f\"Accuracy: \\nTraining set: {accuracy_score(y_train_pred_knn, y_train)}\\nValidation set: {accuracy_score(y_val_pred_knn, y_val)}\\nTesting set: {accuracy_score(y_test_pred_knn, y_test)}\\n\")\n",
        "print(f\"Precision: \\nTraining set: {precision_score(y_train_pred_knn, y_train, average='macro')}\\nValidation set: {precision_score(y_val_pred_knn, y_val, average='macro')}\\nTesting set: {precision_score(y_test_pred_knn, y_test, average='macro')}\\n\")\n",
        "print(f\"Recall: \\nTraining set: {recall_score(y_train_pred_knn, y_train, average='macro')}\\nValidation set: {recall_score(y_val_pred_knn, y_val, average='macro')}\\nTesting set: {recall_score(y_test_pred_knn, y_test, average='macro')}\")"
      ],
      "metadata": {
        "id": "l5XKvZDsWcil",
        "colab": {
          "base_uri": "https://localhost:8080/"
        },
        "outputId": "f7c3cffe-8bb0-49e8-c58a-f34531150c96"
      },
      "execution_count": 15,
      "outputs": [
        {
          "output_type": "stream",
          "name": "stdout",
          "text": [
            "KNN Classifier metrics:\n",
            "Accuracy: \n",
            "Training set: 0.377\n",
            "Validation set: 0.2992\n",
            "Testing set: 0.2976\n",
            "\n",
            "Precision: \n",
            "Training set: 0.377\n",
            "Validation set: 0.2992\n",
            "Testing set: 0.29760000000000003\n",
            "\n",
            "Recall: \n",
            "Training set: 0.5162522133674566\n",
            "Validation set: 0.3862125460328686\n",
            "Testing set: 0.39476869014569776\n"
          ]
        }
      ]
    },
    {
      "cell_type": "code",
      "source": [
        "Report(train, test, y_train, y_test, knn_classifier)"
      ],
      "metadata": {
        "colab": {
          "base_uri": "https://localhost:8080/"
        },
        "id": "59ncCqlyJcd1",
        "outputId": "dac5724e-37d0-4ef3-c1cb-e5f3dfc7567c"
      },
      "execution_count": 16,
      "outputs": [
        {
          "output_type": "stream",
          "name": "stdout",
          "text": [
            "Training error:0.623\n",
            "Testing error:0.7024\n",
            "Accuracy:0.2976\n",
            "\n",
            "              precision    recall  f1-score   support\n",
            "\n",
            "    Airplane       0.34      0.53      0.41       125\n",
            "  Automobile       0.59      0.08      0.14       125\n",
            "        Bird       0.19      0.47      0.27       125\n",
            "         Cat       0.37      0.15      0.21       125\n",
            "        Deer       0.23      0.45      0.30       125\n",
            "         Dog       0.44      0.19      0.27       125\n",
            "        Frog       0.39      0.30      0.33       125\n",
            "       Horse       0.62      0.14      0.23       125\n",
            "        Ship       0.31      0.60      0.41       125\n",
            "       Truck       0.47      0.06      0.11       125\n",
            "\n",
            "    accuracy                           0.30      1250\n",
            "   macro avg       0.39      0.30      0.27      1250\n",
            "weighted avg       0.39      0.30      0.27      1250\n",
            "\n"
          ]
        }
      ]
    },
    {
      "cell_type": "code",
      "source": [
        "prepareandplotROC(train,test,y_train,y_test,knn_classifier,\"K Nearest Neighbors\")"
      ],
      "metadata": {
        "colab": {
          "base_uri": "https://localhost:8080/",
          "height": 295
        },
        "id": "pk2a3DtAJw_T",
        "outputId": "a3f1144b-9251-4147-cce0-7f0ae6bdaa06"
      },
      "execution_count": 17,
      "outputs": [
        {
          "output_type": "display_data",
          "data": {
            "text/plain": [
              "<Figure size 432x288 with 1 Axes>"
            ],
            "image/png": "[encoded data removed]"
          },
          "metadata": {
            "needs_background": "light"
          }
        }
      ]
    },
    {
      "cell_type": "markdown",
      "source": [
        "### Support Vector Machine"
      ],
      "metadata": {
        "id": "ZPkLja3I-Wuv"
      }
    },
    {
      "cell_type": "code",
      "source": [
        "from sklearn.svm import SVC\n",
        "svm_classifier = SVC(kernel='rbf')\n",
        "svm_classifier.fit(train, y_train)"
      ],
      "metadata": {
        "id": "YvZNTgoAVMIT",
        "colab": {
          "base_uri": "https://localhost:8080/"
        },
        "outputId": "58bcbcc4-09fb-4e84-e714-3a37068abebd"
      },
      "execution_count": 18,
      "outputs": [
        {
          "output_type": "execute_result",
          "data": {
            "text/plain": [
              "SVC()"
            ]
          },
          "metadata": {},
          "execution_count": 18
        }
      ]
    },
    {
      "cell_type": "code",
      "source": [
        "y_train_pred_svm = svm_classifier.predict(train)\n",
        "y_val_pred_svm = svm_classifier.predict(val)\n",
        "y_test_pred_svm = svm_classifier.predict(test)"
      ],
      "metadata": {
        "id": "Mai2DCGLVZ__"
      },
      "execution_count": 19,
      "outputs": []
    },
    {
      "cell_type": "code",
      "source": [
        "print(\"For SVM classifier\")\n",
        "print(f\"Train set error: {1-accuracy_score(y_train_pred_svm, y_train)}\\nValidation set error: {1-accuracy_score(y_val_pred_svm, y_val)}\\nTest set error: {1-accuracy_score(y_test_pred_svm, y_test)}\")"
      ],
      "metadata": {
        "id": "HWXSEpzwVlgj",
        "colab": {
          "base_uri": "https://localhost:8080/"
        },
        "outputId": "c5ce33fd-afa0-4e68-835b-3fb5f5ed1234"
      },
      "execution_count": 20,
      "outputs": [
        {
          "output_type": "stream",
          "name": "stdout",
          "text": [
            "For SVM classifier\n",
            "Train set error: 0.2944\n",
            "Validation set error: 0.5224\n",
            "Test set error: 0.5448\n"
          ]
        }
      ]
    },
    {
      "cell_type": "code",
      "source": [
        "print(\"SVM Classifier metrics:\")\n",
        "print(f\"Accuracy: \\nTraining set: {accuracy_score(y_train_pred_svm, y_train)}\\nValidation set: {accuracy_score(y_val_pred_svm, y_val)}\\nTesting set: {accuracy_score(y_test_pred_svm, y_test)}\\n\")\n",
        "print(f\"Precision: \\nTraining set: {precision_score(y_train_pred_svm, y_train, average='macro')}\\nValidation set: {precision_score(y_val_pred_svm, y_val, average='macro')}\\nTesting set: {precision_score(y_test_pred_svm, y_test, average='macro')}\\n\")\n",
        "print(f\"Recall: \\nTraining set: {recall_score(y_train_pred_svm, y_train, average='macro')}\\nValidation set: {recall_score(y_val_pred_svm, y_val, average='macro')}\\nTesting set: {recall_score(y_test_pred_svm, y_test, average='macro')}\")"
      ],
      "metadata": {
        "id": "wFfpcG-7Ye9V",
        "colab": {
          "base_uri": "https://localhost:8080/"
        },
        "outputId": "f6285421-2471-43b8-de4b-a64a76d338f9"
      },
      "execution_count": 21,
      "outputs": [
        {
          "output_type": "stream",
          "name": "stdout",
          "text": [
            "SVM Classifier metrics:\n",
            "Accuracy: \n",
            "Training set: 0.7056\n",
            "Validation set: 0.4776\n",
            "Testing set: 0.4552\n",
            "\n",
            "Precision: \n",
            "Training set: 0.7056\n",
            "Validation set: 0.47759999999999997\n",
            "Testing set: 0.45519999999999994\n",
            "\n",
            "Recall: \n",
            "Training set: 0.7054583067134653\n",
            "Validation set: 0.47650159698408434\n",
            "Testing set: 0.45180451105467834\n"
          ]
        }
      ]
    },
    {
      "cell_type": "code",
      "source": [
        "Report(train, test, y_train, y_test, svm_classifier)"
      ],
      "metadata": {
        "colab": {
          "base_uri": "https://localhost:8080/"
        },
        "id": "WzlxQ74vJmD4",
        "outputId": "bffec45e-ee00-4ba7-8ec7-bea6e6d2228c"
      },
      "execution_count": 22,
      "outputs": [
        {
          "output_type": "stream",
          "name": "stdout",
          "text": [
            "Training error:0.2944\n",
            "Testing error:0.5448\n",
            "Accuracy:0.45520000000000005\n",
            "\n",
            "              precision    recall  f1-score   support\n",
            "\n",
            "    Airplane       0.46      0.48      0.47       125\n",
            "  Automobile       0.53      0.60      0.56       125\n",
            "        Bird       0.33      0.24      0.28       125\n",
            "         Cat       0.39      0.32      0.35       125\n",
            "        Deer       0.42      0.47      0.44       125\n",
            "         Dog       0.42      0.38      0.40       125\n",
            "        Frog       0.44      0.59      0.51       125\n",
            "       Horse       0.55      0.45      0.50       125\n",
            "        Ship       0.48      0.50      0.49       125\n",
            "       Truck       0.48      0.51      0.50       125\n",
            "\n",
            "    accuracy                           0.46      1250\n",
            "   macro avg       0.45      0.46      0.45      1250\n",
            "weighted avg       0.45      0.46      0.45      1250\n",
            "\n"
          ]
        }
      ]
    },
    {
      "cell_type": "code",
      "source": [
        "prepareandplotROC(train,test,y_train,y_test,svm_classifier,\"Support vector machine\")"
      ],
      "metadata": {
        "colab": {
          "base_uri": "https://localhost:8080/",
          "height": 295
        },
        "id": "W2_kwIxzKBNJ",
        "outputId": "3c513e78-f6e7-4d37-a0b8-2fc0e8bebe81"
      },
      "execution_count": 23,
      "outputs": [
        {
          "output_type": "display_data",
          "data": {
            "text/plain": [
              "<Figure size 432x288 with 1 Axes>"
            ],
            "image/png": "[encoded data removed]"
          },
          "metadata": {
            "needs_background": "light"
          }
        }
      ]
    },
    {
      "cell_type": "markdown",
      "source": [
        "### Convolutional Neural Network"
      ],
      "metadata": {
        "id": "eVcr8f1o-ZGW"
      }
    },
    {
      "cell_type": "code",
      "source": [
        "from tensorflow.keras.utils import to_categorical\n",
        "train = x_train.copy()\n",
        "test = x_test.copy()\n",
        "val = x_val.copy()\n",
        "trainY = to_categorical(y_train)\n",
        "valY = to_categorical(y_val)\n",
        "testY = to_categorical(y_test)\n",
        "train = train.astype('float32')\n",
        "train = train / 255.0\n",
        "val = val.astype('float32')\n",
        "val = val / 255.0\n",
        "test = test.astype('float32')\n",
        "test = test / 255.0"
      ],
      "metadata": {
        "id": "w7_yltspp5Pu"
      },
      "execution_count": 24,
      "outputs": []
    },
    {
      "cell_type": "code",
      "source": [
        "from keras.models import Sequential\n",
        "from keras.layers import Conv2D\n",
        "from keras.layers import MaxPooling2D\n",
        "from keras.layers import Dense\n",
        "from keras.layers import Flatten\n",
        "from keras.layers import Dropout\n",
        "from tensorflow.keras.optimizers import SGD\n",
        "def define_model():\n",
        "\tmodel = Sequential()\n",
        "\tmodel.add(Conv2D(32, (3, 3), activation='relu', kernel_initializer='he_uniform', padding='same', input_shape=(32, 32, 3)))\n",
        "\tmodel.add(Conv2D(32, (3, 3), activation='relu', kernel_initializer='he_uniform', padding='same'))\n",
        "\tmodel.add(MaxPooling2D((2, 2)))\n",
        "\tmodel.add(Conv2D(64, (3, 3), activation='relu', kernel_initializer='he_uniform', padding='same'))\n",
        "\tmodel.add(Conv2D(64, (3, 3), activation='relu', kernel_initializer='he_uniform', padding='same'))\n",
        "\tmodel.add(MaxPooling2D((2, 2)))\n",
        "\tmodel.add(Conv2D(128, (3, 3), activation='relu', kernel_initializer='he_uniform', padding='same'))\n",
        "\tmodel.add(Conv2D(128, (3, 3), activation='relu', kernel_initializer='he_uniform', padding='same'))\n",
        "\tmodel.add(MaxPooling2D((2, 2)))\n",
        "\tmodel.add(Flatten())\n",
        "\tmodel.add(Dense(128, activation='relu', kernel_initializer='he_uniform'))\n",
        "\tmodel.add(Dense(10, activation='softmax'))\n",
        "\t# compile model\n",
        "\topt = SGD(learning_rate=0.001, momentum=0.9)\n",
        "\tmodel.compile(optimizer=opt, loss='categorical_crossentropy', metrics=['accuracy'])\n",
        "\treturn model"
      ],
      "metadata": {
        "id": "C9wTPJFHsHD1"
      },
      "execution_count": 25,
      "outputs": []
    },
    {
      "cell_type": "code",
      "source": [
        "model = define_model()"
      ],
      "metadata": {
        "id": "56avhTU8vX1d"
      },
      "execution_count": 26,
      "outputs": []
    },
    {
      "cell_type": "code",
      "source": [
        "model.fit(train, trainY, epochs=5, validation_data=(val, valY))"
      ],
      "metadata": {
        "colab": {
          "base_uri": "https://localhost:8080/"
        },
        "id": "T2f0KoPFsKrh",
        "outputId": "eb556375-f30f-4440-9e08-098fce7764cf"
      },
      "execution_count": 27,
      "outputs": [
        {
          "output_type": "stream",
          "name": "stdout",
          "text": [
            "Epoch 1/5\n",
            "313/313 [==============================] - 54s 171ms/step - loss: 2.0771 - accuracy: 0.2378 - val_loss: 1.7978 - val_accuracy: 0.3320\n",
            "Epoch 2/5\n",
            "313/313 [==============================] - 53s 168ms/step - loss: 1.6939 - accuracy: 0.3860 - val_loss: 1.6080 - val_accuracy: 0.4152\n",
            "Epoch 3/5\n",
            "313/313 [==============================] - 52s 167ms/step - loss: 1.5566 - accuracy: 0.4418 - val_loss: 1.5302 - val_accuracy: 0.4448\n",
            "Epoch 4/5\n",
            "313/313 [==============================] - 53s 168ms/step - loss: 1.4182 - accuracy: 0.4880 - val_loss: 1.4478 - val_accuracy: 0.4720\n",
            "Epoch 5/5\n",
            "313/313 [==============================] - 53s 169ms/step - loss: 1.3243 - accuracy: 0.5253 - val_loss: 1.3308 - val_accuracy: 0.5192\n"
          ]
        },
        {
          "output_type": "execute_result",
          "data": {
            "text/plain": [
              "<keras.callbacks.History at 0x7f591e0f7a50>"
            ]
          },
          "metadata": {},
          "execution_count": 27
        }
      ]
    },
    {
      "cell_type": "code",
      "source": [
        "y_train_pred_cnn = np.argmax(model.predict(train), axis=1)\n",
        "y_val_pred_cnn = np.argmax(model.predict(val), axis=1)\n",
        "y_test_pred_cnn = np.argmax(model.predict(test),axis=1)"
      ],
      "metadata": {
        "id": "eS4WNNo-5yci"
      },
      "execution_count": 28,
      "outputs": []
    },
    {
      "cell_type": "code",
      "source": [
        "print(\"For CNN classifier\")\n",
        "print(f\"Train set error: {1-accuracy_score(y_train_pred_cnn, y_train)}\\nValidation set error: {1-accuracy_score(y_val_pred_cnn, y_val)}\\nTest set error: {1-accuracy_score(y_test_pred_cnn, y_test)}\")"
      ],
      "metadata": {
        "colab": {
          "base_uri": "https://localhost:8080/"
        },
        "id": "MOWJZcNF6lDS",
        "outputId": "652548db-f375-406b-ed3c-1ced2e599913"
      },
      "execution_count": 29,
      "outputs": [
        {
          "output_type": "stream",
          "name": "stdout",
          "text": [
            "For CNN classifier\n",
            "Train set error: 0.4263\n",
            "Validation set error: 0.4808\n",
            "Test set error: 0.5024\n"
          ]
        }
      ]
    },
    {
      "cell_type": "code",
      "source": [
        "print(\"CNN Classifier metrics:\")\n",
        "print(f\"Accuracy: \\nTraining set: {accuracy_score(y_train_pred_cnn, y_train)}\\nValidation set: {accuracy_score(y_val_pred_cnn, y_val)}\\nTesting set: {accuracy_score(y_test_pred_cnn, y_test)}\\n\")\n",
        "print(f\"Precision: \\nTraining set: {precision_score(y_train_pred_cnn, y_train, average='macro')}\\nValidation set: {precision_score(y_val_pred_cnn, y_val, average='macro')}\\nTesting set: {precision_score(y_test_pred_cnn, y_test, average='macro')}\\n\")\n",
        "print(f\"Recall: \\nTraining set: {recall_score(y_train_pred_cnn, y_train, average='macro')}\\nValidation set: {recall_score(y_val_pred_cnn, y_val, average='macro')}\\nTesting set: {recall_score(y_test_pred_cnn, y_test, average='macro')}\")"
      ],
      "metadata": {
        "colab": {
          "base_uri": "https://localhost:8080/"
        },
        "id": "uLhKP2xM6oEa",
        "outputId": "a65c0efe-bbdf-49e5-f1b4-85b10bc22483"
      },
      "execution_count": 30,
      "outputs": [
        {
          "output_type": "stream",
          "name": "stdout",
          "text": [
            "CNN Classifier metrics:\n",
            "Accuracy: \n",
            "Training set: 0.5737\n",
            "Validation set: 0.5192\n",
            "Testing set: 0.4976\n",
            "\n",
            "Precision: \n",
            "Training set: 0.5737\n",
            "Validation set: 0.5192\n",
            "Testing set: 0.4976\n",
            "\n",
            "Recall: \n",
            "Training set: 0.5866439878932144\n",
            "Validation set: 0.525833759137058\n",
            "Testing set: 0.5062292698608336\n"
          ]
        }
      ]
    },
    {
      "cell_type": "code",
      "source": [
        "target_names = [\"Airplane\",\"Automobile\",\"Bird\",\"Cat\",\"Deer\",\"Dog\",\"Frog\",\"Horse\",\"Ship\",\"Truck\"]\n",
        "print(classification_report(y_test,y_test_pred_cnn,target_names=target_names))"
      ],
      "metadata": {
        "colab": {
          "base_uri": "https://localhost:8080/"
        },
        "id": "wIH3Nnif6oYp",
        "outputId": "02fe5f6c-0dd1-4bdb-df76-e2f01b7aa85a"
      },
      "execution_count": 31,
      "outputs": [
        {
          "output_type": "stream",
          "name": "stdout",
          "text": [
            "              precision    recall  f1-score   support\n",
            "\n",
            "    Airplane       0.50      0.48      0.49       125\n",
            "  Automobile       0.63      0.65      0.64       125\n",
            "        Bird       0.59      0.19      0.29       125\n",
            "         Cat       0.40      0.32      0.36       125\n",
            "        Deer       0.56      0.46      0.50       125\n",
            "         Dog       0.48      0.38      0.42       125\n",
            "        Frog       0.48      0.67      0.56       125\n",
            "       Horse       0.44      0.71      0.54       125\n",
            "        Ship       0.47      0.50      0.48       125\n",
            "       Truck       0.53      0.62      0.57       125\n",
            "\n",
            "    accuracy                           0.50      1250\n",
            "   macro avg       0.51      0.50      0.49      1250\n",
            "weighted avg       0.51      0.50      0.49      1250\n",
            "\n"
          ]
        }
      ]
    },
    {
      "cell_type": "code",
      "source": [
        "from sklearn.metrics import roc_curve, auc\n",
        "\n",
        "# Plot linewidth.\n",
        "n_classes = 10\n",
        "\n",
        "# Compute ROC curve and ROC area for each class\n",
        "fpr = dict()\n",
        "tpr = dict()\n",
        "roc_auc = dict()\n",
        "for i in range(n_classes):\n",
        "    new_y_test = y_test.copy()\n",
        "    new_y_test[new_y_test != i] = -1\n",
        "    new_y_test[new_y_test == i] = 1\n",
        "    new_y_test[new_y_test == 255] = 0\n",
        "    new_y_test_pred_cnn = y_test_pred_cnn.copy()\n",
        "    new_y_test_pred_cnn[new_y_test_pred_cnn != i] = -1\n",
        "    new_y_test_pred_cnn[new_y_test_pred_cnn == i] = 1\n",
        "    new_y_test_pred_cnn[new_y_test_pred_cnn == 255] = 0\n",
        "    fpr[i], tpr[i], _ = roc_curve(new_y_test, new_y_test_pred_cnn)\n",
        "    roc_auc[i] = auc(fpr[i], tpr[i])\n",
        "\n",
        "\n",
        "# Compute macro-average ROC curve and ROC area\n",
        "# First aggregate all false positive rates\n",
        "all_fpr = np.unique(np.concatenate([fpr[i] for i in range(n_classes)]))\n",
        "\n",
        "# Then interpolate all ROC curves at this points\n",
        "mean_tpr = np.zeros_like(all_fpr)\n",
        "for i in range(n_classes):\n",
        "    mean_tpr += np.interp(all_fpr, fpr[i], tpr[i])\n",
        "\n",
        "# Finally average it and compute AUC\n",
        "mean_tpr /= n_classes\n",
        "\n",
        "fpr[\"macro\"] = all_fpr\n",
        "tpr[\"macro\"] = mean_tpr\n",
        "roc_auc[\"macro\"] = auc(fpr[\"macro\"], tpr[\"macro\"])"
      ],
      "metadata": {
        "id": "Uf_gbdr3-2j_"
      },
      "execution_count": 32,
      "outputs": []
    },
    {
      "cell_type": "code",
      "source": [
        "plt.plot(fpr[\"macro\"], tpr[\"macro\"],\n",
        "         label='macro-average ROC curve (area = {0:0.2f})'\n",
        "               ''.format(roc_auc[\"macro\"]),\n",
        "         color='navy', linestyle=':', linewidth=4)\n",
        "plt.plot([0, 1], [0, 1], 'k--', lw=2)\n",
        "plt.xlim([0.0, 1.0])\n",
        "plt.ylim([0.0, 1.05])\n",
        "plt.xlabel('False Positive Rate')\n",
        "plt.ylabel('True Positive Rate')\n",
        "plt.title('ROC curve for CNN model')\n",
        "plt.legend(loc=\"lower right\")\n",
        "plt.show()"
      ],
      "metadata": {
        "colab": {
          "base_uri": "https://localhost:8080/",
          "height": 295
        },
        "id": "KtshHbUIjk2K",
        "outputId": "d3d8bbfe-cb58-4c9e-ddd1-d1e688499a45"
      },
      "execution_count": 33,
      "outputs": [
        {
          "output_type": "display_data",
          "data": {
            "text/plain": [
              "<Figure size 432x288 with 1 Axes>"
            ],
            "image/png": "[encoded data removed]"
          },
          "metadata": {
            "needs_background": "light"
          }
        }
      ]
    },
    {
      "cell_type": "markdown",
      "source": [
        "Based on the ROC Curves plotted for each model, SVM performs best, but the CNN on training with more epochs(~20) can perform even better. Hence we can choose CNN for classification."
      ],
      "metadata": {
        "id": "qQUi0gDHr6lk"
      }
    }
  ]
}